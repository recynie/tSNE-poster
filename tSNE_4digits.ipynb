{
 "cells": [
  {
   "cell_type": "code",
   "execution_count": 1,
   "metadata": {},
   "outputs": [],
   "source": [
    "## imports and global variables\n",
    "import pandas as pd\n",
    "import matplotlib.pyplot as plt\n",
    "import numpy as np\n",
    "from sklearn.preprocessing import StandardScaler\n",
    "from sklearn.manifold import TSNE\n",
    "from sklearn.decomposition import PCA\n",
    "import warnings\n",
    "from random import randint\n",
    "warnings.filterwarnings('ignore')\n",
    "SEED=randint(0,100)"
   ]
  },
  {
   "cell_type": "code",
   "execution_count": 2,
   "metadata": {},
   "outputs": [
    {
     "name": "stdout",
     "output_type": "stream",
     "text": [
      "(21416, 784)\n",
      "[0 1 2 3 4]\n"
     ]
    }
   ],
   "source": [
    "## read csv, build trainset, \n",
    "## filter dataset to include only the digits 0 through 4.\n",
    "train=pd.read_csv('MNIST.csv')\n",
    "train = train[train['label'].isin([0, 1, 2, 3, 4])]\n",
    "\n",
    "y=train.loc[:,'label'].values\n",
    "x=train.loc[:,'pixel0':].values\n",
    "\n",
    "print(x.shape)\n",
    "print(np.unique(y))"
   ]
  },
  {
   "cell_type": "code",
   "execution_count": 3,
   "metadata": {},
   "outputs": [
    {
     "data": {
      "image/png": "[encoded data removed]",
      "text/plain": [
       "<Figure size 1000x400 with 40 Axes>"
      ]
     },
     "metadata": {},
     "output_type": "display_data"
    }
   ],
   "source": [
    "## Plotting the original train data\n",
    "def plot_digits(data):\n",
    "    fig, axes = plt.subplots(4, 10, figsize=(10, 4),\n",
    "                             subplot_kw={'xticks':[], 'yticks':[]},\n",
    "                             gridspec_kw=dict(hspace=0.1, wspace=0.1))\n",
    "    for i, ax in enumerate(axes.flat):\n",
    "        ax.imshow(data[i].reshape(28, 28),\n",
    "                  cmap='binary', interpolation='nearest',\n",
    "                  clim=(0, 16))\n",
    "plot_digits(x)"
   ]
  },
  {
   "cell_type": "code",
   "execution_count": 4,
   "metadata": {},
   "outputs": [
    {
     "name": "stdout",
     "output_type": "stream",
     "text": [
      "(21416, 784)\n"
     ]
    }
   ],
   "source": [
    "## Standardizing the data\n",
    "standardized_data = StandardScaler().fit_transform(x)\n",
    "print(standardized_data.shape)"
   ]
  },
  {
   "cell_type": "code",
   "execution_count": 5,
   "metadata": {},
   "outputs": [
    {
     "name": "stdout",
     "output_type": "stream",
     "text": [
      "[0 1 2 3 4]\n"
     ]
    }
   ],
   "source": [
    "## create subset \n",
    "SUBSET_LEN=3000\n",
    "x_subset = x[0:SUBSET_LEN]\n",
    "y_subset = y[0:SUBSET_LEN]\n",
    "print(np.unique(y_subset))\n"
   ]
  },
  {
   "cell_type": "markdown",
   "metadata": {},
   "source": [
    "#### t-SNE\n",
    "- t-SNE.\n",
    "- t-SNE after PCA"
   ]
  },
  {
   "cell_type": "code",
   "execution_count": 6,
   "metadata": {},
   "outputs": [],
   "source": [
    "## t-SNE\n",
    "tsne=TSNE(random_state = SEED,\n",
    "          n_components=2,\n",
    "          verbose=0,\n",
    "          perplexity=40,\n",
    "          max_iter=500\n",
    "          ).fit_transform(x_subset)"
   ]
  },
  {
   "cell_type": "code",
   "execution_count": 7,
   "metadata": {},
   "outputs": [],
   "source": [
    "## t-SNE after PCA\n",
    "pca = PCA(n_components=50)\n",
    "pca_result = pca.fit_transform(x_subset)\n",
    "pca_tsne=TSNE(random_state = SEED,\n",
    "              n_components=2,\n",
    "              verbose=0,\n",
    "              perplexity=40,\n",
    "              max_iter=500\n",
    "              ).fit_transform(pca_result)"
   ]
  },
  {
   "cell_type": "code",
   "execution_count": 8,
   "metadata": {},
   "outputs": [],
   "source": [
    "## comparision between tSNE and PCA-tSNE\n",
    "import altair as alt\n",
    "import pandas as pd\n",
    "alt.data_transformers.enable(\"vegafusion\")\n",
    "WIDTH=500\n",
    "HEIGHT=500\n",
    "SAMPLE_FRAC=0.8\n",
    "\n",
    "tsne_df=pd.DataFrame(tsne,columns=['x1','x2'])\n",
    "tsne_df['label']=pd.DataFrame(y_subset)\n",
    "tsne_df=tsne_df.sample(frac=SAMPLE_FRAC)\n",
    "tsne_chart=alt.Chart(tsne_df).mark_point(size=10).encode(\n",
    "    x=alt.X('x1',type='quantitative').axis(None),\n",
    "    y=alt.Y('x2',type='quantitative').axis(None),\n",
    "    color=alt.Color('label',type='nominal').legend(None)\n",
    ").configure_view(\n",
    "    stroke=None\n",
    ").configure_axis(\n",
    "    grid=False\n",
    ").properties(width=WIDTH,height=HEIGHT)\n",
    "\n",
    "pca_tsne_df=pd.DataFrame(tsne,columns=['x1','x2'])\n",
    "pca_tsne_df['label']=pd.DataFrame(y_subset)\n",
    "pca_tsne_df=pca_tsne_df.sample(frac=SAMPLE_FRAC)\n",
    "pca_tsne_chart=alt.Chart(pca_tsne_df).mark_point(size=10).encode(\n",
    "    x=alt.X('x1',type='quantitative').axis(None),\n",
    "    y=alt.Y('x2',type='quantitative').axis(None),\n",
    "    color=alt.Color('label',type='nominal').legend(None)\n",
    ").configure_view(\n",
    "    stroke=None\n",
    ").configure_axis(\n",
    "    grid=False\n",
    ").properties(width=WIDTH,height=HEIGHT)\n",
    "\n",
    "tsne_chart.save('tSNE_4digits.altair.png')\n",
    "pca_tsne_chart.save('PCA_tSNE_4digits.altair.png')\n"
   ]
  }
 ],
 "metadata": {
  "kernelspec": {
   "display_name": "prml",
   "language": "python",
   "name": "python3"
  },
  "language_info": {
   "codemirror_mode": {
    "name": "ipython",
    "version": 3
   },
   "file_extension": ".py",
   "mimetype": "text/x-python",
   "name": "python",
   "nbconvert_exporter": "python",
   "pygments_lexer": "ipython3",
   "version": "3.12.2"
  }
 },
 "nbformat": 4,
 "nbformat_minor": 2
}
